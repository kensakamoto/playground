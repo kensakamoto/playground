{
 "cells": [
  {
   "cell_type": "markdown",
   "metadata": {},
   "source": [
    "本章では，Bo Pang氏とLillian Lee氏が公開しているMovie Review Dataのsentence polarity dataset v1.0を用い，文を肯定的（ポジティブ）もしくは否定的（ネガティブ）に分類するタスク（極性分析）に取り組む．\n",
    "\n",
    "## 70. データの入手・整形\n",
    "文に関する極性分析の正解データを用い，以下の要領で正解データ（sentiment.txt）を作成せよ．\n",
    "\n",
    "rt-polarity.posの各行の先頭に\"+1 \"という文字列を追加する（極性ラベル\"+1\"とスペースに続けて肯定的な文の内容が続く）\n",
    "\n",
    "rt-polarity.negの各行の先頭に\"-1 \"という文字列を追加する（極性ラベル\"-1\"とスペースに続けて否定的な文の内容が続く）\n",
    "\n",
    "上述1と2の内容を結合（concatenate）し，行をランダムに並び替える\n",
    "\n",
    "sentiment.txtを作成したら，正例（肯定的な文）の数と負例（否定的な文）の数を確認せよ．"
   ]
  },
  {
   "cell_type": "code",
   "execution_count": 7,
   "metadata": {
    "collapsed": false
   },
   "outputs": [],
   "source": [
    "with open(\"data/sentiment.txt\", \"a\") as a:\n",
    "    for pos in  open(\"data/rt-polaritydata/rt-polaritydata/rt-polarity.pos\", encoding='iso8859_2'):\n",
    "        a.write('+1' + pos)\n",
    "    for neg in  open(\"data/rt-polaritydata/rt-polaritydata/rt-polarity.neg\", encoding='iso8859_2'):\n",
    "        a.write('-1' + neg)\n",
    "    "
   ]
  },
  {
   "cell_type": "code",
   "execution_count": 8,
   "metadata": {
    "collapsed": false
   },
   "outputs": [],
   "source": [
    "!sort -R data/sentiment.txt -o data/sentiment.txt"
   ]
  },
  {
   "cell_type": "code",
   "execution_count": 9,
   "metadata": {
    "collapsed": false
   },
   "outputs": [
    {
     "name": "stdout",
     "output_type": "stream",
     "text": [
      "posの数は10662,negの数は10662\n"
     ]
    }
   ],
   "source": [
    "pos = 0\n",
    "neg = 0\n",
    "for line in open('data/sentiment.txt'):\n",
    "    if line[:2] == '+1':\n",
    "        pos += 1\n",
    "    else:\n",
    "        neg += 1\n",
    "print(f'posの数は{pos},negの数は{neg}')"
   ]
  },
  {
   "cell_type": "markdown",
   "metadata": {},
   "source": [
    "## 71. ストップワード\n",
    "英語のストップワードのリスト（ストップリスト）を適当に作成せよ．さらに，引数に与えられた単語（文字列）がストップリストに含まれている場合は真，それ以外は偽を返す関数を実装せよ．さらに，その関数に対するテストを記述せよ．"
   ]
  },
  {
   "cell_type": "code",
   "execution_count": 10,
   "metadata": {
    "collapsed": false
   },
   "outputs": [],
   "source": [
    "# 順番はどうでも良いので集合にする\n",
    "stop_words=set([\"(\", \")\", \"--\", \",\", \".\", \";\", \":\", \"\\'\", \"\\\"\", \"i\", \"me\", \"my\", \"myself\", \"we\", \"our\", \"ours\", \"ourselves\", \"you\", \"your\", \"yours\", \"yourself\", \"yourselves\", \"he\", \"him\", \"his\", \"himself\", \"she\", \"her\", \"hers\", \"herself\", \"it\", \"its\", \"itself\", \"they\", \"them\", \"their\", \"theirs\", \"themselves\", \"what\", \"which\", \"who\", \"whom\", \"this\", \"that\", \"these\", \"those\", \"am\", \"is\", \"are\", \"was\", \"were\", \"be\", \"been\", \"being\", \"have\", \"has\", \"had\", \"having\", \"do\", \"does\", \"did\", \"doing\", \"a\", \"an\", \"the\", \"and\", \"but\", \"if\", \"or\", \"because\", \"as\", \"until\", \"while\", \"of\", \"at\", \"by\", \"for\", \"with\", \"about\", \"against\", \"between\", \"into\", \"through\", \"during\", \"before\", \"after\", \"above\", \"below\", \"to\", \"from\", \"up\", \"down\", \"in\", \"out\", \"on\", \"off\", \"over\", \"under\", \"again\", \"further\", \"then\", \"once\", \"here\", \"there\", \"when\", \"where\", \"why\", \"how\", \"all\", \"any\", \"both\", \"each\", \"few\", \"more\", \"most\", \"other\", \"some\", \"such\", \"no\", \"nor\", \"not\", \"only\", \"own\", \"same\", \"so\", \"than\", \"too\", \"very\", \"s\", \"t\", \"can\", \"will\", \"just\", \"don\", \"should\", \"now\"])"
   ]
  },
  {
   "cell_type": "code",
   "execution_count": 11,
   "metadata": {
    "collapsed": true
   },
   "outputs": [],
   "source": [
    "def stop_words_have(word):\n",
    "    return word in stop_words"
   ]
  },
  {
   "cell_type": "code",
   "execution_count": 12,
   "metadata": {
    "collapsed": false
   },
   "outputs": [],
   "source": [
    "for i in stop_words:\n",
    "    if stop_words_have(i) == False:\n",
    "        break"
   ]
  },
  {
   "cell_type": "markdown",
   "metadata": {},
   "source": [
    "## 72. 素性抽出\n",
    "極性分析に有用そうな素性を各自で設計し，学習データから素性を抽出せよ．素性としては，レビューからストップワードを除去し，各単語をステミング処理したものが最低限のベースラインとなるであろう．"
   ]
  },
  {
   "cell_type": "code",
   "execution_count": 13,
   "metadata": {
    "collapsed": false
   },
   "outputs": [],
   "source": [
    "from collections import Counter\n",
    "from stemming.porter2 import stem"
   ]
  },
  {
   "cell_type": "code",
   "execution_count": 14,
   "metadata": {
    "collapsed": false
   },
   "outputs": [],
   "source": [
    "with open('data/file72.txt', 'w')as a:\n",
    "    for line in open('data/sentiment.txt'):\n",
    "        a.write(' '.join([stem(word) for word in line[2:].split() if not stop_words_have(stem(word))]) + '\\n')"
   ]
  },
  {
   "cell_type": "code",
   "execution_count": 15,
   "metadata": {
    "collapsed": false
   },
   "outputs": [
    {
     "name": "stdout",
     "output_type": "stream",
     "text": [
      "230084\n"
     ]
    }
   ],
   "source": [
    "words = []\n",
    "for line in open('data/file72'):\n",
    "    words += line.split()\n",
    "count=Counter(words)\n",
    "print(len(words))"
   ]
  },
  {
   "cell_type": "code",
   "execution_count": null,
   "metadata": {
    "collapsed": false
   },
   "outputs": [],
   "source": []
  },
  {
   "cell_type": "code",
   "execution_count": 22,
   "metadata": {
    "collapsed": false
   },
   "outputs": [],
   "source": [
    "with open('data/features.txt', 'w')as w:\n",
    "    w.write('\\n'.join([i for i in count if count[i] >= 10 and count[i] < 1000 ]))"
   ]
  },
  {
   "cell_type": "markdown",
   "metadata": {},
   "source": [
    "## 73. 学習\n",
    "72で抽出した素性を用いて，ロジスティック回帰モデルを学習せよ．"
   ]
  },
  {
   "cell_type": "code",
   "execution_count": 4,
   "metadata": {
    "collapsed": false
   },
   "outputs": [],
   "source": [
    "import numpy as np"
   ]
  },
  {
   "cell_type": "code",
   "execution_count": 5,
   "metadata": {
    "collapsed": false
   },
   "outputs": [],
   "source": [
    "answer = []\n",
    "for line in open('data/sentiment.txt'):\n",
    "    answer.append(int(line[:2])/2+0.5)\n",
    "answer = np.array(answer)"
   ]
  },
  {
   "cell_type": "code",
   "execution_count": 6,
   "metadata": {
    "collapsed": false
   },
   "outputs": [
    {
     "name": "stdout",
     "output_type": "stream",
     "text": [
      "3752\n"
     ]
    }
   ],
   "source": [
    "import numpy as np\n",
    "import scipy as sp\n",
    "\n",
    "with open('data/features')as r:\n",
    "    features = r.read().split()\n",
    "print(len(features))"
   ]
  },
  {
   "cell_type": "code",
   "execution_count": 7,
   "metadata": {
    "collapsed": false
   },
   "outputs": [],
   "source": [
    "num_of_line = sum(1 for i in open('data/file72.txt', 'r'))\n",
    "num_of_features = sum(1 for i in open('data/features.txt', 'r'))\n",
    "\n",
    "# matrix[i, j]: i番目の文章にj番目の特徴単語が見つかるか？\n",
    "matrix = np.zeros((num_of_line, num_of_features + 1))\n",
    "matrix[:,0] = 1\n",
    "for i, line in enumerate(open('data/file72.txt')):\n",
    "    for word in  line.split():\n",
    "        if word in features:\n",
    "            matrix[i][features.index(word) + 1] = 1"
   ]
  },
  {
   "cell_type": "code",
   "execution_count": 8,
   "metadata": {
    "collapsed": false
   },
   "outputs": [
    {
     "data": {
      "text/plain": [
       "array([ 1.,  1.,  0., ...,  1.,  0.,  0.])"
      ]
     },
     "execution_count": 8,
     "metadata": {},
     "output_type": "execute_result"
    }
   ],
   "source": [
    "answer"
   ]
  },
  {
   "cell_type": "code",
   "execution_count": 43,
   "metadata": {
    "collapsed": false
   },
   "outputs": [],
   "source": [
    "v = np.random.rand(num_of_features + 1)\n",
    "\n",
    "def sigmoid(x):\n",
    "    return 1/(1 + np.exp(-x))\n",
    "\n",
    "# 学習するのはここの部分です。\n",
    "N = 500\n",
    "learn_rate = 0.001\n",
    "for i in range(N):\n",
    "    v += learn_rate * np.dot(answer - sigmoid(np.dot(matrix,v)), matrix)"
   ]
  },
  {
   "cell_type": "code",
   "execution_count": 12,
   "metadata": {
    "collapsed": false
   },
   "outputs": [
    {
     "data": {
      "text/plain": [
       "array([ -8.66712104e+02,  -1.69467979e+01,  -6.54415748e+00, ...,\n",
       "         2.04343760e-01,  -2.17913842e-01,   2.54261976e-01])"
      ]
     },
     "execution_count": 12,
     "metadata": {},
     "output_type": "execute_result"
    }
   ],
   "source": [
    "v"
   ]
  },
  {
   "cell_type": "code",
   "execution_count": 62,
   "metadata": {
    "collapsed": false
   },
   "outputs": [],
   "source": [
    "A = np.dot(matrix, v)"
   ]
  },
  {
   "cell_type": "code",
   "execution_count": 65,
   "metadata": {
    "collapsed": false
   },
   "outputs": [
    {
     "name": "stdout",
     "output_type": "stream",
     "text": [
      "(21324, 3753) (3753,) (21324,)\n"
     ]
    }
   ],
   "source": [
    "print(matrix.shape, v.shape, A.shape)"
   ]
  },
  {
   "cell_type": "markdown",
   "metadata": {},
   "source": [
    "## 74. 予測\n",
    "73で学習したロジスティック回帰モデルを用い，与えられた文の極性ラベル（正例なら\"+1\"，負例なら\"-1\"）と，その予測確率を計算するプログラムを実装せよ．"
   ]
  },
  {
   "cell_type": "code",
   "execution_count": 67,
   "metadata": {
    "collapsed": false
   },
   "outputs": [],
   "source": [
    "def predict(sentence):\n",
    "    sentence_vector = np.zeros(num_of_features + 1)\n",
    "    for word in sentence.split():\n",
    "        if word in features:\n",
    "            sentence_vector[fetures.index(word) + 1] = 1\n",
    "    result = sigmoids(np.dot(sentence_vector,v))\n",
    "    if result > 0.5:\n",
    "        return \"+1\", result\n",
    "    else:\n",
    "        return \"-1\", 1 - result"
   ]
  },
  {
   "cell_type": "markdown",
   "metadata": {},
   "source": [
    "## 75. 素性の重み\n",
    "73で学習したロジスティック回帰モデルの中で，重みの高い素性トップ10と，重みの低い素性トップ10を確認せよ．"
   ]
  },
  {
   "cell_type": "code",
   "execution_count": 44,
   "metadata": {
    "collapsed": false
   },
   "outputs": [],
   "source": [
    "lst75 = np.argsort(v)[::-1]"
   ]
  },
  {
   "cell_type": "code",
   "execution_count": 45,
   "metadata": {
    "collapsed": false
   },
   "outputs": [
    {
     "name": "stdout",
     "output_type": "stream",
     "text": [
      "engross\n",
      "refresh\n",
      "unexpect\n",
      "glorious\n",
      "remark\n",
      "resist\n",
      "examin\n",
      "mesmer\n",
      "sli\n",
      "witti\n"
     ]
    }
   ],
   "source": [
    "for i in range(10):\n",
    "    print(features[lst75[i] - 1])"
   ]
  },
  {
   "cell_type": "code",
   "execution_count": 46,
   "metadata": {
    "collapsed": false
   },
   "outputs": [
    {
     "name": "stdout",
     "output_type": "stream",
     "text": [
      "engross\n",
      "bore\n",
      "wast\n",
      "neither\n",
      "dull\n",
      "fail\n",
      "flat\n",
      "suppos\n",
      "mediocr\n",
      "generic\n"
     ]
    }
   ],
   "source": [
    "for i in range(10):\n",
    "    print(features[lst75[-i] - 1])"
   ]
  },
  {
   "cell_type": "markdown",
   "metadata": {},
   "source": [
    "## 76. ラベル付け\n",
    "学習データに対してロジスティック回帰モデルを適用し，正解のラベル，予測されたラベル，予測確率をタブ区切り形式で出力せよ．"
   ]
  },
  {
   "cell_type": "code",
   "execution_count": 70,
   "metadata": {
    "collapsed": true
   },
   "outputs": [],
   "source": [
    "with open('data/file76.txt', 'w')as a:\n",
    "    for i, j in zip(answer, sigmoid(np.dot(matrix,v))):\n",
    "        if j > 0.5:\n",
    "            a.write(str(int(i)) + '\\t' + str(1) + '\\t' + str(j)+ '\\n')\n",
    "        else:\n",
    "            a.write(str(int(i)) + '\\t' + str(0) + '\\t' + str(1 - j) + '\\n')"
   ]
  },
  {
   "cell_type": "markdown",
   "metadata": {},
   "source": [
    "## 77. 正解率の計測\n",
    "76の出力を受け取り，予測の正解率，正例に関する適合率，再現率，F1スコアを求めるプログラムを作成せよ"
   ]
  },
  {
   "cell_type": "code",
   "execution_count": 75,
   "metadata": {
    "collapsed": false
   },
   "outputs": [],
   "source": [
    "def prediction_rate_from(file_name):\n",
    "    correct = 0\n",
    "    counter = 0\n",
    "    for line in open('data/file76.txt'):\n",
    "        counter += 1\n",
    "        x = line.split()\n",
    "        if x[0] == x[1]:\n",
    "            correct += 1\n",
    "    print(\"予測の正解率は\", correct / counter)\n",
    "    return correct / counter\n",
    "    "
   ]
  },
  {
   "cell_type": "code",
   "execution_count": 76,
   "metadata": {
    "collapsed": false
   },
   "outputs": [],
   "source": [
    "def fit_rate_from(file_name):\n",
    "    correct = 0\n",
    "    counter = 0\n",
    "    for line in open(file_name):\n",
    "        x = line.split()\n",
    "        if x[0] == '1' and x[1] == '1':\n",
    "            correct += 1\n",
    "        if x[1] == '1':\n",
    "            counter += 1\n",
    "    print(\"正例に関する適合率\", correct / counter)\n",
    "    return correct / counter"
   ]
  },
  {
   "cell_type": "code",
   "execution_count": 77,
   "metadata": {
    "collapsed": false
   },
   "outputs": [],
   "source": [
    "def recall_rate_from(file_name):\n",
    "    correct = 0\n",
    "    counter = 0\n",
    "    for line in open(file_name):\n",
    "        x = line.split()\n",
    "        if x[0] == '1' and x[1] == '1':\n",
    "            correct += 1\n",
    "        if x[0] == '1':\n",
    "            counter += 1\n",
    "    print(\"再現率は\", correct / counter)"
   ]
  },
  {
   "cell_type": "code",
   "execution_count": 78,
   "metadata": {
    "collapsed": false
   },
   "outputs": [
    {
     "name": "stdout",
     "output_type": "stream",
     "text": [
      "予測の正解率は 0.814856499718627\n",
      "正例に関する適合率 0.7411984480528812\n",
      "再現率は 0.9675483023822923\n"
     ]
    }
   ],
   "source": [
    "prediction_rate_from('data/file76.txt')\n",
    "fit_rate_from('data/file76.txt')\n",
    "recall_rate_from('data/file76.txt')"
   ]
  },
  {
   "cell_type": "markdown",
   "metadata": {},
   "source": [
    "## 78. 5分割交差検定\n",
    "76-77の実験では，学習に用いた事例を評価にも用いたため，正当な評価とは言えない．すなわち，分類器が訓練事例を丸暗記する際の性能を評価しており，モデルの汎化性能を測定していない．そこで，5分割交差検定により，極性分類の正解率，適合率，再現率，F1スコアを求めよ．"
   ]
  },
  {
   "cell_type": "code",
   "execution_count": 27,
   "metadata": {
    "collapsed": false
   },
   "outputs": [],
   "source": [
    "one_fifth_matrix = matrix[:int(num_of_line / 5)]\n",
    "four_fifth_matrix = matrix[int(num_of_line / 5):]\n",
    "one_fifth_answer = answer[:int(num_of_line / 5)]\n",
    "four_fifth_answer = answer[int(num_of_line / 5):]"
   ]
  },
  {
   "cell_type": "code",
   "execution_count": 51,
   "metadata": {
    "collapsed": false
   },
   "outputs": [
    {
     "name": "stdout",
     "output_type": "stream",
     "text": [
      "(21324, 3753) (17060, 3753)\n"
     ]
    }
   ],
   "source": [
    "print(matrix.shape,  four_fifth_matrix.shape)"
   ]
  },
  {
   "cell_type": "code",
   "execution_count": 52,
   "metadata": {
    "collapsed": false
   },
   "outputs": [],
   "source": [
    "v2 = np.random.rand(num_of_features + 1)\n",
    "\n",
    "N = 500\n",
    "learn_rate = 0.001\n",
    "for i in range(N):\n",
    "    v2 += learn_rate * np.dot(four_fifth_answer - sigmoid(np.dot(four_fifth_matrix,v2)), four_fifth_matrix)"
   ]
  },
  {
   "cell_type": "code",
   "execution_count": 61,
   "metadata": {
    "collapsed": false
   },
   "outputs": [],
   "source": [
    "with open('data/file78.txt', 'w')as a:\n",
    "    for i, j in zip(one_fifth_answer, sigmoid(np.dot(one_fifth_matrix,v2))):\n",
    "        if j > 0.5:\n",
    "            a.write(str(int(i)) + '\\t' + str(1) + '\\t' + str(j)+ '\\n')\n",
    "        else:\n",
    "            a.write(str(int(i)) + '\\t' + str(0) + '\\t' + str(1 - j) + '\\n')"
   ]
  },
  {
   "cell_type": "code",
   "execution_count": 68,
   "metadata": {
    "collapsed": false
   },
   "outputs": [
    {
     "name": "stdout",
     "output_type": "stream",
     "text": [
      "予測の正解率は 0.7749015194147439\n",
      "正例に関する適合率 0.6988352745424293\n",
      "再現率は 0.8030592734225621\n"
     ]
    }
   ],
   "source": [
    "prediction_rate_from('data/file78.txt')\n",
    "fit_rate_from('data/file78.txt')\n",
    "recall_rate_from('data/file78.txt')"
   ]
  },
  {
   "cell_type": "markdown",
   "metadata": {},
   "source": [
    "## 79. 適合率-再現率グラフの描画\n",
    "ロジスティック回帰モデルの分類の閾値を変化させることで，適合率-再現率グラフを描画せよ．"
   ]
  },
  {
   "cell_type": "code",
   "execution_count": 74,
   "metadata": {
    "collapsed": false
   },
   "outputs": [],
   "source": [
    "with open('data/file79.txt', 'w')as a:\n",
    "    for i, j in zip(one_fifth_answer, sigmoid(np.dot(one_fifth_matrix,v2))):\n",
    "        a.write(str(int(i)) + '\\t' + str(1) + '\\t' + str(j)+ '\\n')"
   ]
  },
  {
   "cell_type": "code",
   "execution_count": 88,
   "metadata": {
    "collapsed": false
   },
   "outputs": [
    {
     "ename": "ZeroDivisionError",
     "evalue": "division by zero",
     "output_type": "error",
     "traceback": [
      "\u001b[0;31m---------------------------------------------------------------------------\u001b[0m",
      "\u001b[0;31mZeroDivisionError\u001b[0m                         Traceback (most recent call last)",
      "\u001b[0;32m<ipython-input-88-467794cb779a>\u001b[0m in \u001b[0;36m<module>\u001b[0;34m()\u001b[0m\n\u001b[1;32m     34\u001b[0m \u001b[0;34m\u001b[0m\u001b[0m\n\u001b[1;32m     35\u001b[0m \u001b[0mX\u001b[0m \u001b[0;34m=\u001b[0m \u001b[0mnp\u001b[0m\u001b[0;34m.\u001b[0m\u001b[0mlinspace\u001b[0m\u001b[0;34m(\u001b[0m\u001b[0;36m0\u001b[0m\u001b[0;34m,\u001b[0m \u001b[0;36m1\u001b[0m\u001b[0;34m,\u001b[0m \u001b[0;36m100\u001b[0m\u001b[0;34m,\u001b[0m \u001b[0mendpoint\u001b[0m \u001b[0;34m=\u001b[0m \u001b[0;32mFalse\u001b[0m\u001b[0;34m)\u001b[0m\u001b[0;34m\u001b[0m\u001b[0m\n\u001b[0;32m---> 36\u001b[0;31m \u001b[0mp\u001b[0m\u001b[0;34m,\u001b[0m \u001b[0mr\u001b[0m \u001b[0;34m=\u001b[0m \u001b[0mf\u001b[0m\u001b[0;34m(\u001b[0m\u001b[0mX\u001b[0m\u001b[0;34m)\u001b[0m\u001b[0;34m\u001b[0m\u001b[0m\n\u001b[0m\u001b[1;32m     37\u001b[0m \u001b[0mplt\u001b[0m\u001b[0;34m.\u001b[0m\u001b[0mplot\u001b[0m\u001b[0;34m(\u001b[0m\u001b[0mX\u001b[0m\u001b[0;34m,\u001b[0m \u001b[0mp\u001b[0m\u001b[0;34m,\u001b[0m \u001b[0mlabel\u001b[0m \u001b[0;34m=\u001b[0m \u001b[0;34m'precision rate'\u001b[0m\u001b[0;34m)\u001b[0m\u001b[0;34m\u001b[0m\u001b[0m\n\u001b[1;32m     38\u001b[0m \u001b[0mplt\u001b[0m\u001b[0;34m.\u001b[0m\u001b[0mplot\u001b[0m\u001b[0;34m(\u001b[0m\u001b[0mX\u001b[0m\u001b[0;34m,\u001b[0m \u001b[0mr\u001b[0m\u001b[0;34m,\u001b[0m \u001b[0mlabel\u001b[0m \u001b[0;34m=\u001b[0m \u001b[0;34m'recall rate'\u001b[0m\u001b[0;34m)\u001b[0m\u001b[0;34m\u001b[0m\u001b[0m\n",
      "\u001b[0;32m<ipython-input-88-467794cb779a>\u001b[0m in \u001b[0;36madaption_recall_graph\u001b[0;34m(threshold)\u001b[0m\n\u001b[1;32m     29\u001b[0m         \u001b[0;32melse\u001b[0m\u001b[0;34m:\u001b[0m\u001b[0;34m\u001b[0m\u001b[0m\n\u001b[1;32m     30\u001b[0m             \u001b[0madaption_recall\u001b[0m\u001b[0;34m.\u001b[0m\u001b[0mappend\u001b[0m\u001b[0;34m(\u001b[0m\u001b[0;34m[\u001b[0m\u001b[0mi\u001b[0m\u001b[0;34m,\u001b[0m \u001b[0;36m0\u001b[0m\u001b[0;34m]\u001b[0m\u001b[0;34m)\u001b[0m\u001b[0;34m\u001b[0m\u001b[0m\n\u001b[0;32m---> 31\u001b[0;31m     \u001b[0;32mreturn\u001b[0m \u001b[0mfit_rate_from_list\u001b[0m\u001b[0;34m(\u001b[0m\u001b[0madaption_recall\u001b[0m\u001b[0;34m)\u001b[0m\u001b[0;34m,\u001b[0m \u001b[0mrecall_rate_from_list\u001b[0m\u001b[0;34m(\u001b[0m\u001b[0madaption_recall\u001b[0m\u001b[0;34m)\u001b[0m\u001b[0;34m\u001b[0m\u001b[0m\n\u001b[0m\u001b[1;32m     32\u001b[0m \u001b[0;34m\u001b[0m\u001b[0m\n\u001b[1;32m     33\u001b[0m \u001b[0mf\u001b[0m \u001b[0;34m=\u001b[0m \u001b[0mnp\u001b[0m\u001b[0;34m.\u001b[0m\u001b[0mfrompyfunc\u001b[0m\u001b[0;34m(\u001b[0m\u001b[0madaption_recall_graph\u001b[0m\u001b[0;34m,\u001b[0m \u001b[0;36m1\u001b[0m\u001b[0;34m,\u001b[0m \u001b[0;36m2\u001b[0m\u001b[0;34m)\u001b[0m\u001b[0;34m\u001b[0m\u001b[0m\n",
      "\u001b[0;32m<ipython-input-88-467794cb779a>\u001b[0m in \u001b[0;36mfit_rate_from_list\u001b[0;34m(lst)\u001b[0m\n\u001b[1;32m      7\u001b[0m         \u001b[0;32mif\u001b[0m \u001b[0mx\u001b[0m\u001b[0;34m[\u001b[0m\u001b[0;36m1\u001b[0m\u001b[0;34m]\u001b[0m \u001b[0;34m==\u001b[0m \u001b[0;34m'1'\u001b[0m\u001b[0;34m:\u001b[0m\u001b[0;34m\u001b[0m\u001b[0m\n\u001b[1;32m      8\u001b[0m             \u001b[0mcounter\u001b[0m \u001b[0;34m+=\u001b[0m \u001b[0;36m1\u001b[0m\u001b[0;34m\u001b[0m\u001b[0m\n\u001b[0;32m----> 9\u001b[0;31m     \u001b[0;32mreturn\u001b[0m \u001b[0mcorrect\u001b[0m \u001b[0;34m/\u001b[0m \u001b[0mcounter\u001b[0m\u001b[0;34m\u001b[0m\u001b[0m\n\u001b[0m\u001b[1;32m     10\u001b[0m \u001b[0;34m\u001b[0m\u001b[0m\n\u001b[1;32m     11\u001b[0m \u001b[0;32mdef\u001b[0m \u001b[0mrecall_rate_from_list\u001b[0m\u001b[0;34m(\u001b[0m\u001b[0mlst\u001b[0m\u001b[0;34m)\u001b[0m\u001b[0;34m:\u001b[0m\u001b[0;34m\u001b[0m\u001b[0m\n",
      "\u001b[0;31mZeroDivisionError\u001b[0m: division by zero"
     ]
    }
   ],
   "source": [
    "def fit_rate_from_list(lst):\n",
    "    correct = 0\n",
    "    counter = 0\n",
    "    for line in lst:\n",
    "        if x[0] == '1' and x[1] == '1':\n",
    "            correct += 1\n",
    "        if x[1] == '1':\n",
    "            counter += 1\n",
    "    return correct / counter\n",
    "\n",
    "def recall_rate_from_list(lst):\n",
    "    correct = 0\n",
    "    counter = 0\n",
    "    for line in lst:\n",
    "        if x[0] == '1' and x[1] == '1':\n",
    "            correct += 1\n",
    "        if x[0] == '1':\n",
    "            counter += 1\n",
    "    return correct / counter\n",
    "\n",
    "def adaption_recall_graph(threshold):\n",
    "    adaption_recall = []\n",
    "    \n",
    "    for line in open('data/file79.txt'):\n",
    "        data = line.split()\n",
    "        i, j = int(data[0]), float(data[2])\n",
    "        if j > threshold:\n",
    "            adaption_recall.append([i, 1])\n",
    "        else:\n",
    "            adaption_recall.append([i, 0])\n",
    "    return fit_rate_from_list(adaption_recall), recall_rate_from_list(adaption_recall)\n",
    "\n",
    "f = np.frompyfunc(adaption_recall_graph, 1, 2)\n",
    "\n",
    "X = np.linspace(0, 1, 100, endpoint = False)\n",
    "p, r = f(X)\n",
    "plt.plot(X, p, label = 'precision rate')\n",
    "plt.plot(X, r, label = 'recall rate')\n",
    "plt.legend()\n",
    "plt.show()"
   ]
  },
  {
   "cell_type": "code",
   "execution_count": 90,
   "metadata": {
    "collapsed": false
   },
   "outputs": [
    {
     "data": {
      "image/png": "[encoded data removed]",
      "text/plain": [
       "<matplotlib.figure.Figure at 0x10dc1ea90>"
      ]
     },
     "metadata": {},
     "output_type": "display_data"
    }
   ],
   "source": [
    "import matplotlib.pyplot as plt\n",
    "\n",
    "def precision_rate(lst79):\n",
    "    lst=[]\n",
    "    for x in lst79:\n",
    "        if x[0] == 1 and x[1] == 1:\n",
    "            lst.append(True)\n",
    "        elif x[1] == 1:\n",
    "            lst.append(False)\n",
    "    return len([i for i in lst if i == True])/len(lst)*100\n",
    "\n",
    "def recall_rate(lst79):\n",
    "    lst=[]\n",
    "    for x in lst79:\n",
    "        if x[0] == 1 and x[1] == 1:\n",
    "            lst.append(True)\n",
    "        elif x[0] == 1:\n",
    "            lst.append(False)\n",
    "    return len([i for i in lst if i == True])/len(lst)*100\n",
    "\n",
    "def f79(x):\n",
    "    lst79 = []\n",
    "    for line in open('data/file79.txt'):\n",
    "        data = line.split()\n",
    "        i, j = int(data[0]), float(data[2])\n",
    "        if j > x:\n",
    "            lst79.append([i, 1])\n",
    "        else:\n",
    "            lst79.append([i, 0])\n",
    "    #print(lst79)\n",
    "    return precision_rate(lst79), recall_rate(lst79)\n",
    "\n",
    "f = np.frompyfunc(f79, 1, 2)\n",
    "\n",
    "X = np.linspace(0, 1, 100, endpoint = False)\n",
    "p, r = f(X)\n",
    "plt.plot(X, p, label = 'precision rate')\n",
    "plt.plot(X, r, label = 'recall rate')\n",
    "plt.legend()\n",
    "plt.show()"
   ]
  },
  {
   "cell_type": "code",
   "execution_count": null,
   "metadata": {
    "collapsed": true
   },
   "outputs": [],
   "source": []
  }
 ],
 "metadata": {
  "kernelspec": {
   "display_name": "Python 3",
   "language": "python",
   "name": "python3"
  },
  "language_info": {
   "codemirror_mode": {
    "name": "ipython",
    "version": 3
   },
   "file_extension": ".py",
   "mimetype": "text/x-python",
   "name": "python",
   "nbconvert_exporter": "python",
   "pygments_lexer": "ipython3",
   "version": "3.6.0"
  }
 },
 "nbformat": 4,
 "nbformat_minor": 2
}

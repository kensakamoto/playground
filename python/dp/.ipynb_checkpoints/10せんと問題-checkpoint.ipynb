{
 "cells": [
  {
   "cell_type": "code",
   "execution_count": 1,
   "metadata": {
    "collapsed": true
   },
   "outputs": [],
   "source": [
    "import numpy as np\n"
   ]
  },
  {
   "cell_type": "code",
   "execution_count": 52,
   "metadata": {
    "collapsed": false
   },
   "outputs": [],
   "source": [
    "\n",
    "a = np.array([25, 10, 5, 1])\n",
    "num = 4\n",
    "money = 5000\n",
    "\n",
    "dp = np.zeros((num + 1, money + 1), dtype=int)\n",
    "\n",
    "def solver():\n",
    "    dp[0, 0] = 1\n",
    "    \n",
    "    for i in range(num):\n",
    "        for j in range(money + 1):\n",
    "            dp[i + 1, j] += dp[i, j]\n",
    "            for k in range(1, int((money + 1) / a[i]) + 1, 1):\n",
    "                if j >= a[i] * k:\n",
    "                    dp[i + 1, j] += dp[i, j - a[i] * k]\n",
    "\n",
    "    print(dp[num ][money])\n",
    "\n"
   ]
  },
  {
   "cell_type": "code",
   "execution_count": 53,
   "metadata": {
    "collapsed": false
   },
   "outputs": [
    {
     "name": "stdout",
     "output_type": "stream",
     "text": [
      "16892551\n"
     ]
    }
   ],
   "source": [
    "solver()"
   ]
  },
  {
   "cell_type": "code",
   "execution_count": null,
   "metadata": {
    "collapsed": true
   },
   "outputs": [],
   "source": []
  }
 ],
 "metadata": {
  "kernelspec": {
   "display_name": "Python 3",
   "language": "python",
   "name": "python3"
  },
  "language_info": {
   "codemirror_mode": {
    "name": "ipython",
    "version": 3
   },
   "file_extension": ".py",
   "mimetype": "text/x-python",
   "name": "python",
   "nbconvert_exporter": "python",
   "pygments_lexer": "ipython3",
   "version": "3.6.0"
  }
 },
 "nbformat": 4,
 "nbformat_minor": 2
}

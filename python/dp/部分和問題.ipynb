{
 "cells": [
  {
   "cell_type": "code",
   "execution_count": 1,
   "metadata": {
    "collapsed": true
   },
   "outputs": [],
   "source": [
    "import numpy as np"
   ]
  },
  {
   "cell_type": "code",
   "execution_count": 32,
   "metadata": {
    "collapsed": true
   },
   "outputs": [],
   "source": [
    "n = 3\n",
    "a = np.array([7, 1, 3])\n",
    "# m = np.array([3, 2, 2])\n",
    "A = 10"
   ]
  },
  {
   "cell_type": "code",
   "execution_count": 29,
   "metadata": {
    "collapsed": false
   },
   "outputs": [
    {
     "data": {
      "text/plain": [
       "array([[ True, False, False, False, False, False, False, False, False,\n",
       "        False, False],\n",
       "       [ True, False, False, False, False, False, False,  True, False,\n",
       "        False, False],\n",
       "       [ True,  True, False, False, False, False, False,  True,  True,\n",
       "        False, False],\n",
       "       [ True,  True, False,  True,  True, False, False,  True,  True,\n",
       "        False,  True]], dtype=bool)"
      ]
     },
     "execution_count": 29,
     "metadata": {},
     "output_type": "execute_result"
    }
   ],
   "source": [
    "#　部分和問題\n",
    "n = 3\n",
    "a = np.array([7, 1, 3])\n",
    "# m = np.array([3, 2, 2])\n",
    "A = 10\n",
    "dp = np.zeros((n + 1, A + 1), dtype=bool)\n",
    "\n",
    "def solve():\n",
    "    dp[0][0] = True\n",
    "    \n",
    "    for i in range(n):\n",
    "        for j in range(A + 1):\n",
    "            dp[i+1][j] |= dp[i][j]\n",
    "            if j >= a[i]:\n",
    "                dp[i+1][j] |= dp[i][j-a[i]]\n",
    "                \n",
    "solve()\n",
    "dp"
   ]
  },
  {
   "cell_type": "code",
   "execution_count": 36,
   "metadata": {
    "collapsed": false
   },
   "outputs": [
    {
     "data": {
      "text/plain": [
       "array([[[ True, False, False],\n",
       "        [False, False, False],\n",
       "        [False, False, False],\n",
       "        [False, False, False],\n",
       "        [False, False, False],\n",
       "        [False, False, False],\n",
       "        [False, False, False],\n",
       "        [False, False, False],\n",
       "        [False, False, False],\n",
       "        [False, False, False],\n",
       "        [False, False, False]],\n",
       "\n",
       "       [[ True, False, False],\n",
       "        [False, False, False],\n",
       "        [False, False, False],\n",
       "        [False, False, False],\n",
       "        [False, False, False],\n",
       "        [False, False, False],\n",
       "        [False, False, False],\n",
       "        [False,  True, False],\n",
       "        [False, False, False],\n",
       "        [False, False, False],\n",
       "        [False, False, False]],\n",
       "\n",
       "       [[ True, False, False],\n",
       "        [False,  True, False],\n",
       "        [False, False, False],\n",
       "        [False, False, False],\n",
       "        [False, False, False],\n",
       "        [False, False, False],\n",
       "        [False, False, False],\n",
       "        [False,  True, False],\n",
       "        [False, False,  True],\n",
       "        [False, False, False],\n",
       "        [False, False, False]],\n",
       "\n",
       "       [[ True, False, False],\n",
       "        [False,  True, False],\n",
       "        [False, False, False],\n",
       "        [False,  True, False],\n",
       "        [False, False,  True],\n",
       "        [False, False, False],\n",
       "        [False, False, False],\n",
       "        [False,  True, False],\n",
       "        [False, False,  True],\n",
       "        [False, False, False],\n",
       "        [False, False,  True]]], dtype=bool)"
      ]
     },
     "execution_count": 36,
     "metadata": {},
     "output_type": "execute_result"
    }
   ],
   "source": [
    "# 制限枚数付き部分和問題\n",
    "n = 3\n",
    "a = np.array([7, 1, 3])\n",
    "# m = np.array([3, 2, 2])\n",
    "A = 10\n",
    "m = 2\n",
    "dp = np.zeros(( n + 1, A + 1, m + 1), dtype=bool)\n",
    "\n",
    "def solve():\n",
    "    dp[0][0][0] = True\n",
    "    \n",
    "    for i in range(n):\n",
    "        for j in range(A + 1):\n",
    "            dp[i+1][j] |= dp[i][j]\n",
    "            if j >= a[i]:\n",
    "                for k in range(m):\n",
    "                        dp[i+1][j][k + 1] |= dp[i][j-a[i]][k]\n",
    "\n",
    "solve()\n",
    "dp"
   ]
  },
  {
   "cell_type": "code",
   "execution_count": 48,
   "metadata": {
    "collapsed": false
   },
   "outputs": [
    {
     "data": {
      "text/plain": [
       "array([[1, 0, 0, 0],\n",
       "       [1, 1, 0, 0],\n",
       "       [1, 2, 1, 0],\n",
       "       [1, 2, 2, 2],\n",
       "       [1, 2, 3, 4],\n",
       "       [1, 2, 3, 5]])"
      ]
     },
     "execution_count": 48,
     "metadata": {},
     "output_type": "execute_result"
    }
   ],
   "source": [
    "# 部分和数え上げ問題\n",
    "n = 5\n",
    "a = np.array([1, 1, 2, 2, 3])\n",
    "A = 3\n",
    "dp = np.zeros((n + 1, A + 1), dtype=int)\n",
    "\n",
    "def solve():\n",
    "    dp[0][0] = 1\n",
    "    \n",
    "    for i in range(n):\n",
    "        for j in range(A + 1):\n",
    "            dp[i+1][j] += dp[i][j]\n",
    "            if j >= a[i]:\n",
    "                dp[i+1][j] += dp[i][j-a[i]]\n",
    "                \n",
    "solve()\n",
    "dp"
   ]
  },
  {
   "cell_type": "code",
   "execution_count": 40,
   "metadata": {
    "collapsed": false
   },
   "outputs": [
    {
     "data": {
      "text/plain": [
       "array([[[1, 0, 0],\n",
       "        [0, 0, 0],\n",
       "        [0, 0, 0],\n",
       "        [0, 0, 0],\n",
       "        [0, 0, 0]],\n",
       "\n",
       "       [[1, 0, 0],\n",
       "        [0, 1, 0],\n",
       "        [0, 0, 0],\n",
       "        [0, 0, 0],\n",
       "        [0, 0, 0]],\n",
       "\n",
       "       [[1, 0, 0],\n",
       "        [0, 2, 0],\n",
       "        [0, 0, 1],\n",
       "        [0, 0, 0],\n",
       "        [0, 0, 0]],\n",
       "\n",
       "       [[1, 0, 0],\n",
       "        [0, 2, 0],\n",
       "        [0, 1, 1],\n",
       "        [0, 0, 2],\n",
       "        [0, 0, 0]],\n",
       "\n",
       "       [[1, 0, 0],\n",
       "        [0, 2, 0],\n",
       "        [0, 2, 1],\n",
       "        [0, 0, 4],\n",
       "        [0, 0, 1]],\n",
       "\n",
       "       [[1, 0, 0],\n",
       "        [0, 2, 0],\n",
       "        [0, 2, 1],\n",
       "        [0, 1, 4],\n",
       "        [0, 0, 3]]])"
      ]
     },
     "execution_count": 40,
     "metadata": {},
     "output_type": "execute_result"
    }
   ],
   "source": [
    "# 制限枚数付き部分和数え上げ問題\n",
    "n = 5\n",
    "a = np.array([1, 1, 2, 2, 3])\n",
    "m = 2\n",
    "A = 4\n",
    "dp = np.zeros((n + 1, A + 1, m + 1), dtype=int)\n",
    "\n",
    "def solve():\n",
    "    dp[0][0][0] = 1\n",
    "    \n",
    "    for i in range(n):\n",
    "        for j in range(A + 1):\n",
    "            dp[i+1][j] += dp[i][j]\n",
    "            if j >= a[i]:\n",
    "                for k in range(m):\n",
    "                    dp[i+1][j][k + 1] += dp[i][j-a[i]][k]\n",
    "                \n",
    "solve()\n",
    "dp"
   ]
  },
  {
   "cell_type": "code",
   "execution_count": 74,
   "metadata": {
    "collapsed": false
   },
   "outputs": [
    {
     "data": {
      "text/plain": [
       "array([[ 0, -1, -1, -1, -1, -1, -1, -1, -1, -1, -1, -1, -1, -1, -1, -1],\n",
       "       [ 2,  1,  0, -1, -1, -1, -1, -1, -1, -1, -1, -1, -1, -1, -1, -1],\n",
       "       [ 2,  2,  2,  1,  1,  0,  0, -1, -1, -1, -1, -1, -1, -1, -1, -1]])"
      ]
     },
     "execution_count": 74,
     "metadata": {},
     "output_type": "execute_result"
    }
   ],
   "source": [
    "# 制限付き部分和問題\n",
    "n = 2\n",
    "a = np.array([1, 2, 3])\n",
    "m = np.array([2, 2, 3])\n",
    "A = 15\n",
    "\n",
    "dp = np.zeros((n + 1, A + 1), dtype=int) - 1\n",
    "\n",
    "def solve():\n",
    "    dp[0, 0] = 0\n",
    "    \n",
    "    for i in range(n):\n",
    "        for j in range(A + 1):\n",
    "            if dp[i, j] >= 0:\n",
    "                dp[i + 1, j] = m[i]\n",
    "            elif j < a[i] or dp[i + 1, j - a[i]] <= 0:\n",
    "                dp[i + 1, j] = -1\n",
    "            else:\n",
    "                dp[i + 1, j] = dp[i + 1, j - a[i]] - 1\n",
    "                \n",
    "solve()\n",
    "dp"
   ]
  },
  {
   "cell_type": "code",
   "execution_count": 119,
   "metadata": {
    "collapsed": false
   },
   "outputs": [
    {
     "data": {
      "text/plain": [
       "array([[1, 0, 0, 0],\n",
       "       [1, 3, 3, 1],\n",
       "       [1, 3, 5, 7]])"
      ]
     },
     "execution_count": 119,
     "metadata": {},
     "output_type": "execute_result"
    }
   ],
   "source": [
    "# 制限付き部分和数え上げ問題\n",
    "from scipy.special import comb\n",
    "n = 2\n",
    "a = np.array([1, 2, 3])\n",
    "m = np.array([3, 2, 3])\n",
    "A = 3\n",
    "\n",
    "dp = np.zeros((n + 1, A + 1), dtype=int) \n",
    "\n",
    "def solve():\n",
    "    dp[0, 0] = 1\n",
    "    \n",
    "    for i in range(n):\n",
    "        for j in range(A + 1):\n",
    "            dp[i + 1, j] += dp[i][j]\n",
    "            for k in range(1, m[i] + 1):\n",
    "                if j >= a[i] * k:\n",
    "                    dp[i+1][j] += dp[i][j - a[i] * k] * comb(m[i], k)\n",
    "            \n",
    "solve()\n",
    "dp"
   ]
  },
  {
   "cell_type": "code",
   "execution_count": 118,
   "metadata": {
    "collapsed": false
   },
   "outputs": [
    {
     "data": {
      "text/plain": [
       "array([[[1, 0, 0, 0],\n",
       "        [0, 0, 0, 0],\n",
       "        [0, 0, 0, 0],\n",
       "        [0, 0, 0, 0]],\n",
       "\n",
       "       [[1, 0, 0, 0],\n",
       "        [0, 3, 0, 0],\n",
       "        [0, 0, 3, 0],\n",
       "        [0, 0, 0, 1]],\n",
       "\n",
       "       [[1, 0, 0, 0],\n",
       "        [0, 3, 0, 0],\n",
       "        [0, 2, 3, 0],\n",
       "        [0, 0, 6, 1]]])"
      ]
     },
     "execution_count": 118,
     "metadata": {},
     "output_type": "execute_result"
    }
   ],
   "source": [
    "# 制限付き部分和数え上げ問題\n",
    "from scipy.special import comb\n",
    "n = 2\n",
    "a = np.array([1, 2, 3])\n",
    "m = np.array([3, 2, 3])\n",
    "A = 3\n",
    "card_num = 3\n",
    "\n",
    "dp = np.zeros((n + 1, A + 1, card_num + 1), dtype=int) \n",
    "\n",
    "def solve():\n",
    "    dp[0, 0, 0] = 1\n",
    "    \n",
    "    for i in range(n):\n",
    "        for j in range(A + 1):\n",
    "            dp[i + 1, j] += dp[i][j]\n",
    "            for k in range(1, m[i] + 1):\n",
    "                if j >= a[i] * k:\n",
    "                    for current_card_num in range(1, card_num + 1):\n",
    "                        if  current_card_num >= k:\n",
    "                            dp[i+1][j][current_card_num] += dp[i][j - a[i] * k][current_card_num - k] * comb(m[i], k)\n",
    "            \n",
    "solve()\n",
    "dp"
   ]
  },
  {
   "cell_type": "code",
   "execution_count": null,
   "metadata": {
    "collapsed": true
   },
   "outputs": [],
   "source": []
  }
 ],
 "metadata": {
  "kernelspec": {
   "display_name": "Python 3",
   "language": "python",
   "name": "python3"
  },
  "language_info": {
   "codemirror_mode": {
    "name": "ipython",
    "version": 3
   },
   "file_extension": ".py",
   "mimetype": "text/x-python",
   "name": "python",
   "nbconvert_exporter": "python",
   "pygments_lexer": "ipython3",
   "version": "3.6.0"
  }
 },
 "nbformat": 4,
 "nbformat_minor": 2
}

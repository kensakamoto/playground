{
 "cells": [
  {
   "cell_type": "code",
   "execution_count": 1,
   "metadata": {
    "collapsed": true
   },
   "outputs": [],
   "source": [
    "class Huffman:\n",
    "    def __init__(self):\n",
    "        self.tree = None\n",
    "        self.pattern = None\n",
    "        self.encode_dict = {}\n",
    "        self.decode_dict = {}\n",
    "\n",
    "    def encode(self, data):\n",
    "        unique_data = set(data)\n",
    "        nodes = []\n",
    "\n",
    "        for v in unique_data:\n",
    "            node_obj = Node(value=v, count=data.count(v))\n",
    "            nodes.append(node_obj)\n",
    "        temp = []\n",
    "        while len(nodes) >= 2:\n",
    "            for v in range(2):\n",
    "                elem = min(nodes, key=lambda x: x.count)\n",
    "                temp.append(elem)\n",
    "                nodes.remove(elem)\n",
    "            n = Node(value=None, count=temp[0].count+temp[1].count, left=temp[0], right=temp[1])\n",
    "            temp = []\n",
    "            nodes.append(n)\n",
    "        self.tree = nodes[0]\n",
    "        self.recursive_code(self.tree, \"\")\n",
    "        s = \"\"\n",
    "        for v in data:\n",
    "            s += self.encode_dict[v]\n",
    "        return s\n",
    "\n",
    "    def recursive_code(self, node, s): #圧縮結果を取得する\n",
    "        if not isinstance(node, Node):\n",
    "            return\n",
    "        if node.value:\n",
    "            self.encode_dict[node.value] = s\n",
    "            self.decode_dict[s] = node.value\n",
    "            return\n",
    "        self.recursive_code(node.right, s+\"1\")\n",
    "        self.recursive_code(node.left, s+\"0\")\n",
    "    def decode(self, data):\n",
    "        assert(self.decode_dict)\n",
    "        result = \"\"\n",
    "        s = \"\"\n",
    "        for bit in data:\n",
    "            s += bit\n",
    "            if s in self.decode_dict:\n",
    "                result += self.decode_dict[s]\n",
    "                s = \"\"\n",
    "        return result"
   ]
  },
  {
   "cell_type": "code",
   "execution_count": 2,
   "metadata": {
    "collapsed": true
   },
   "outputs": [],
   "source": [
    "class Node: #葉を表すクラス\n",
    "    def __init__(self, value=None, count=None, left=None, right=None):\n",
    "        self.value = value\n",
    "        self.left = left\n",
    "        self.right = right\n",
    "        self.count = count"
   ]
  },
  {
   "cell_type": "code",
   "execution_count": 3,
   "metadata": {
    "collapsed": false
   },
   "outputs": [
    {
     "data": {
      "text/plain": [
       "'00001000101101111111'"
      ]
     },
     "execution_count": 3,
     "metadata": {},
     "output_type": "execute_result"
    }
   ],
   "source": [
    "h = Huffman()\n",
    "x = h.encode(\"AABCCDEEE\")\n",
    "x"
   ]
  },
  {
   "cell_type": "code",
   "execution_count": 4,
   "metadata": {
    "collapsed": false
   },
   "outputs": [
    {
     "data": {
      "text/plain": [
       "{'A': '00', 'B': '100', 'C': '01', 'D': '101', 'E': '11'}"
      ]
     },
     "execution_count": 4,
     "metadata": {},
     "output_type": "execute_result"
    }
   ],
   "source": [
    "h.encode_dict"
   ]
  }
 ],
 "metadata": {
  "kernelspec": {
   "display_name": "Python 3",
   "language": "python",
   "name": "python3"
  },
  "language_info": {
   "codemirror_mode": {
    "name": "ipython",
    "version": 3
   },
   "file_extension": ".py",
   "mimetype": "text/x-python",
   "name": "python",
   "nbconvert_exporter": "python",
   "pygments_lexer": "ipython3",
   "version": "3.6.0"
  }
 },
 "nbformat": 4,
 "nbformat_minor": 2
}

{
 "cells": [
  {
   "cell_type": "code",
   "execution_count": 3,
   "metadata": {
    "collapsed": false
   },
   "outputs": [],
   "source": [
    "# S = \"aaaaaabbbbaaaabbbbbbbaaaa\"\n",
    "# V=[]\n",
    "\n",
    "def run_length(S):\n",
    "    V=[]\n",
    "\n",
    "    for s in S:\n",
    "        if len(V)==0 or V[-1][0]!=s:\n",
    "            V.append([s,1])\n",
    "        else:\n",
    "            V[-1][1] += 1\n",
    "\n",
    "    s=\"\"\n",
    "    for v in V:\n",
    "        s += \"%s%d\" % (v[0],v[1])\n",
    "    return s"
   ]
  },
  {
   "cell_type": "code",
   "execution_count": 4,
   "metadata": {
    "collapsed": false
   },
   "outputs": [
    {
     "data": {
      "text/plain": [
       "'a6b4a4b7a4'"
      ]
     },
     "execution_count": 4,
     "metadata": {},
     "output_type": "execute_result"
    }
   ],
   "source": [
    "run_length(\"aaaaaabbbbaaaabbbbbbbaaaa\")"
   ]
  },
  {
   "cell_type": "code",
   "execution_count": null,
   "metadata": {
    "collapsed": true
   },
   "outputs": [],
   "source": []
  }
 ],
 "metadata": {
  "kernelspec": {
   "display_name": "Python 3",
   "language": "python",
   "name": "python3"
  },
  "language_info": {
   "codemirror_mode": {
    "name": "ipython",
    "version": 3
   },
   "file_extension": ".py",
   "mimetype": "text/x-python",
   "name": "python",
   "nbconvert_exporter": "python",
   "pygments_lexer": "ipython3",
   "version": "3.6.0"
  }
 },
 "nbformat": 4,
 "nbformat_minor": 2
}
